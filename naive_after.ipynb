{
 "cells": [
  {
   "cell_type": "code",
   "execution_count": 45,
   "metadata": {},
   "outputs": [],
   "source": [
    "#After increasing the data\n",
    "import pandas as pd\n",
    "from sklearn.feature_extraction.text import CountVectorizer\n",
    "from sklearn.model_selection import train_test_split\n",
    "from sklearn.naive_bayes import MultinomialNB\n",
    "from sklearn.metrics import accuracy_score\n",
    "from nltk.corpus import stopwords\n",
    "import os\n",
    "\n",
    "# Load the CSV file with specified encoding\n",
    "\n",
    "df = pd.read_csv(r\"C:\\Users\\abdel\\Downloads\\data set\\SQLiV3.csv\")\n",
    "\n",
    "\n",
    "\n"
   ]
  },
  {
   "cell_type": "code",
   "execution_count": 46,
   "metadata": {},
   "outputs": [
    {
     "name": "stdout",
     "output_type": "stream",
     "text": [
      "Index(['Sentence', 'Label', 'Unnamed: 2', 'Unnamed: 3'], dtype='object')\n",
      "Sentence          1\n",
      "Label             0\n",
      "Unnamed: 2    30916\n",
      "Unnamed: 3    31209\n",
      "dtype: int64\n",
      "                                            Sentence Label Unnamed: 2  \\\n",
      "0                  \" or pg_sleep  (  __TIME__  )  --     1        NaN   \n",
      "1  create user name identified by pass123 tempora...     1          1   \n",
      "2   AND 1  =  utl_inaddr.get_host_address   (    ...     1        NaN   \n",
      "3   select * from users where id  =  '1' or @ @1 ...     1        NaN   \n",
      "4   select * from users where id  =  1 or 1#\"  ( ...     1        NaN   \n",
      "\n",
      "   Unnamed: 3  \n",
      "0         NaN  \n",
      "1         NaN  \n",
      "2         NaN  \n",
      "3         NaN  \n",
      "4         NaN  \n"
     ]
    }
   ],
   "source": [
    "print(df.columns)\n",
    "for i in range(0, 20921):\n",
    "    if pd.isnull(df.iloc[i, 0]):\n",
    "        df.iloc[i, 0] = df.iloc[i, 1]\n",
    "    elif pd.isnull(df.iloc[i, 1]):\n",
    "        df.iloc[i, 1] = df.iloc[i, 2]\n",
    "print(df.isna().sum())\n",
    "print(df.head())"
   ]
  },
  {
   "cell_type": "code",
   "execution_count": 47,
   "metadata": {},
   "outputs": [
    {
     "name": "stdout",
     "output_type": "stream",
     "text": [
      "Sentence          0\n",
      "Label             0\n",
      "Unnamed: 2    30911\n",
      "Unnamed: 3    31166\n",
      "dtype: int64\n"
     ]
    }
   ],
   "source": [
    "# Convert 'Label' column to string and then check for non-numeric characters\n",
    "df['Label'] = df['Label'].astype(str)\n",
    "df = df[~df['Label'].str.contains('[a-zA-Z]')]\n",
    "# Convert the 'Label' column to integers\n",
    "df['Label'] = pd.to_numeric(df['Label'], errors='coerce', downcast='integer')\n",
    "df['Label'] = df['Label'].astype('float32')\n",
    "# Drop rows with NaN values in 'Sentence' and 'Label' columns\n",
    "df = df.dropna(subset=['Sentence', 'Label'])\n",
    "\n",
    "# Check for NaN values after cleaning\n",
    "print(df.isna().sum())\n"
   ]
  },
  {
   "cell_type": "code",
   "execution_count": 48,
   "metadata": {},
   "outputs": [
    {
     "name": "stdout",
     "output_type": "stream",
     "text": [
      "Naive Bayes Accuracy: 0.9509965969859018\n",
      "Naive Bayes training  Accuracy: 0.9674824002681864\n"
     ]
    }
   ],
   "source": [
    "\n",
    "import numpy as np\n",
    "\n",
    "\n",
    "# Extract features and labels\n",
    "X = df['Sentence']\n",
    "y = df['Label']\n",
    "\n",
    "# Apply CountVectorizer to convert text data into numerical features\n",
    "vectorizer = CountVectorizer(min_df=2, max_df=0.8, stop_words=stopwords.words('english'))\n",
    "X = vectorizer.fit_transform(X.astype('U')).toarray()\n",
    "\n",
    "# Split the data into training and testing sets\n",
    "X_train, X_test, y_train, y_test = train_test_split(X, y, test_size=0.33, random_state=44)\n",
    "\n",
    "# Train a Multinomial Naive Bayes classifier\n",
    "classifier = MultinomialNB()\n",
    "classifier.fit(X_train, y_train)\n",
    "\n",
    "# Make predictions on the testing data\n",
    "y_pred = classifier.predict(X_test)\n",
    "\n",
    "\n",
    "# Calculate accuracy\n",
    "accuracy = accuracy_score(y_test,y_pred) \n",
    "print(\"Naive Bayes Accuracy:\", accuracy)\n",
    "training_Accuracy=classifier.score(X_train,y_train)\n",
    "print(\"Naive Bayes training \",f'Accuracy: {training_Accuracy}')\n"
   ]
  },
  {
   "cell_type": "code",
   "execution_count": 49,
   "metadata": {},
   "outputs": [
    {
     "name": "stdout",
     "output_type": "stream",
     "text": [
      "[1. 0.]\n"
     ]
    },
    {
     "data": {
      "image/png": "[encoded data removed]",
      "text/plain": [
       "<Figure size 640x480 with 2 Axes>"
      ]
     },
     "metadata": {},
     "output_type": "display_data"
    }
   ],
   "source": [
    "import seaborn as sns\n",
    "import matplotlib as plt\n",
    "from sklearn.metrics import confusion_matrix\n",
    "cm = confusion_matrix(y_test, y_pred)\n",
    "\n",
    "# Plot the confusion matrix as a heatmap\n",
    "sns.heatmap(cm, annot=True, fmt='d', cmap='Blues', center=True)\n",
    "print(df['Label'].unique())"
   ]
  },
  {
   "cell_type": "code",
   "execution_count": 50,
   "metadata": {},
   "outputs": [
    {
     "name": "stdout",
     "output_type": "stream",
     "text": [
      "              precision    recall  f1-score   support\n",
      "\n",
      "         0.0       0.94      0.99      0.96      6455\n",
      "         1.0       0.98      0.89      0.93      3830\n",
      "\n",
      "    accuracy                           0.95     10285\n",
      "   macro avg       0.96      0.94      0.95     10285\n",
      "weighted avg       0.95      0.95      0.95     10285\n",
      "\n",
      "number of false pred: 504\n",
      "31166\n"
     ]
    }
   ],
   "source": [
    "from sklearn.metrics import classification_report\n",
    "q=classification_report(y_test, y_pred)\n",
    "print(q)\n",
    "from sklearn.metrics import zero_one_loss\n",
    "print(\"number of false pred:\",zero_one_loss(y_test,y_pred,normalize=False))\n",
    "print(len(df))"
   ]
  },
  {
   "cell_type": "code",
   "execution_count": 51,
   "metadata": {},
   "outputs": [
    {
     "name": "stdout",
     "output_type": "stream",
     "text": [
      "0.9386100397813341\n"
     ]
    }
   ],
   "source": [
    "from sklearn.metrics import roc_curve\n",
    "from sklearn.metrics import auc\n",
    "fprValue2, tprValue2, thresholdsValue2 = roc_curve(y_test,y_pred)\n",
    "\n",
    "AUCValue = auc(fprValue2, tprValue2)\n",
    "print(AUCValue)"
   ]
  },
  {
   "cell_type": "code",
   "execution_count": 52,
   "metadata": {},
   "outputs": [
    {
     "data": {
      "image/png": "[encoded data removed]",
      "text/plain": [
       "<Figure size 640x480 with 1 Axes>"
      ]
     },
     "metadata": {},
     "output_type": "display_data"
    }
   ],
   "source": [
    "import matplotlib.pyplot as plt\n",
    "# Pie chart \n",
    "label_counts = df['Label'].value_counts()\n",
    "\n",
    "plt.pie(label_counts.values , labels=label_counts.index, autopct='%1.1f%%', colors=['lightcoral', 'lightblue'])\n",
    "plt.show()"
   ]
  },
  {
   "cell_type": "code",
   "execution_count": 53,
   "metadata": {},
   "outputs": [
    {
     "name": "stdout",
     "output_type": "stream",
     "text": [
      "                                                Sentence  Label Unnamed: 2  \\\n",
      "0                      \" or pg_sleep  (  __TIME__  )  --    1.0        NaN   \n",
      "1      create user name identified by pass123 tempora...    1.0          1   \n",
      "2       AND 1  =  utl_inaddr.get_host_address   (    ...    1.0        NaN   \n",
      "3       select * from users where id  =  '1' or @ @1 ...    1.0        NaN   \n",
      "4       select * from users where id  =  1 or 1#\"  ( ...    1.0        NaN   \n",
      "...                                                  ...    ...        ...   \n",
      "31213                              admin\") or (\"1\"=\"1\"/*    1.0        NaN   \n",
      "31214                                  admin\") or \"1\"=\"1    1.0        NaN   \n",
      "31215                               admin\") or \"1\"=\"1\"--    1.0        NaN   \n",
      "31216                                admin\") or \"1\"=\"1\"#    1.0        NaN   \n",
      "31217                               admin\") or \"1\"=\"1\"/*    1.0        NaN   \n",
      "\n",
      "       Unnamed: 3  \n",
      "0             NaN  \n",
      "1             NaN  \n",
      "2             NaN  \n",
      "3             NaN  \n",
      "4             NaN  \n",
      "...           ...  \n",
      "31213         NaN  \n",
      "31214         NaN  \n",
      "31215         NaN  \n",
      "31216         NaN  \n",
      "31217         NaN  \n",
      "\n",
      "[31166 rows x 4 columns]\n"
     ]
    }
   ],
   "source": [
    "print (df)"
   ]
  }
 ],
 "metadata": {
  "kernelspec": {
   "display_name": "Python 3",
   "language": "python",
   "name": "python3"
  },
  "language_info": {
   "codemirror_mode": {
    "name": "ipython",
    "version": 3
   },
   "file_extension": ".py",
   "mimetype": "text/x-python",
   "name": "python",
   "nbconvert_exporter": "python",
   "pygments_lexer": "ipython3",
   "version": "3.10.9"
  }
 },
 "nbformat": 4,
 "nbformat_minor": 2
}
