{
 "cells": [
  {
   "cell_type": "code",
   "execution_count": 7,
   "metadata": {},
   "outputs": [],
   "source": [
    "\n",
    "import pandas as pd\n",
    "from sklearn.feature_extraction.text import CountVectorizer\n",
    "from sklearn.model_selection import train_test_split\n",
    "from sklearn.tree  import DecisionTreeClassifier\n",
    "from sklearn.metrics import accuracy_score, classification_report\n",
    "from nltk.corpus import stopwords\n",
    "import nltk\n",
    "\n",
    "# Load the CSV file with specified encoding\n",
    "df = pd.read_csv(r\"C:\\Users\\abdel\\Downloads\\data set\\SQLiV3.csv\")\n"
   ]
  },
  {
   "cell_type": "code",
   "execution_count": 8,
   "metadata": {},
   "outputs": [
    {
     "name": "stdout",
     "output_type": "stream",
     "text": [
      "Index(['Sentence', 'Label', 'Unnamed: 2', 'Unnamed: 3'], dtype='object')\n",
      "Sentence          1\n",
      "Label             0\n",
      "Unnamed: 2    30916\n",
      "Unnamed: 3    31209\n",
      "dtype: int64\n",
      "                                            Sentence Label Unnamed: 2  \\\n",
      "0                  \" or pg_sleep  (  __TIME__  )  --     1        NaN   \n",
      "1  create user name identified by pass123 tempora...     1          1   \n",
      "2   AND 1  =  utl_inaddr.get_host_address   (    ...     1        NaN   \n",
      "3   select * from users where id  =  '1' or @ @1 ...     1        NaN   \n",
      "4   select * from users where id  =  1 or 1#\"  ( ...     1        NaN   \n",
      "\n",
      "   Unnamed: 3  \n",
      "0         NaN  \n",
      "1         NaN  \n",
      "2         NaN  \n",
      "3         NaN  \n",
      "4         NaN  \n",
      "Sentence          0\n",
      "Label             0\n",
      "Unnamed: 2    30911\n",
      "Unnamed: 3    31166\n",
      "dtype: int64\n",
      "Sentence          0\n",
      "Label             0\n",
      "Unnamed: 2    30911\n",
      "Unnamed: 3    31166\n",
      "dtype: int64\n",
      "                                            Sentence  Label Unnamed: 2  \\\n",
      "0                  \" or pg_sleep  (  __TIME__  )  --    1.0        NaN   \n",
      "1  create user name identified by pass123 tempora...    1.0          1   \n",
      "2   AND 1  =  utl_inaddr.get_host_address   (    ...    1.0        NaN   \n",
      "3   select * from users where id  =  '1' or @ @1 ...    1.0        NaN   \n",
      "4   select * from users where id  =  1 or 1#\"  ( ...    1.0        NaN   \n",
      "\n",
      "   Unnamed: 3  \n",
      "0         NaN  \n",
      "1         NaN  \n",
      "2         NaN  \n",
      "3         NaN  \n",
      "4         NaN  \n"
     ]
    }
   ],
   "source": [
    "\n",
    "print(df.columns)\n",
    "for i in range(0, 20921):\n",
    "    if pd.isnull(df.iloc[i, 0]):\n",
    "        df.iloc[i, 0] = df.iloc[i, 1]\n",
    "    elif pd.isnull(df.iloc[i, 1]):\n",
    "        df.iloc[i, 1] = df.iloc[i, 2]\n",
    "print(df.isna().sum())\n",
    "print(df.head())\n",
    "\n",
    "\n",
    "# Convert 'Label' column to string and then check for non-numeric characters\n",
    "df['Label'] = df['Label'].astype(str)\n",
    "df = df[~df['Label'].str.contains('[a-zA-Z]')]\n",
    "# Convert the 'Label' column to integers\n",
    "df['Label'] = pd.to_numeric(df['Label'], errors='coerce', downcast='integer')\n",
    "df['Label'] = df['Label'].astype('float32')\n",
    "# Drop rows with NaN values in 'Sentence' and 'Label' columns\n",
    "df = df.dropna(subset=['Sentence', 'Label'])\n",
    "\n",
    "# Check for NaN values after cleaning\n",
    "print(df.isna().sum())\n",
    "\n",
    "print(df.isna().sum())\n",
    "print(df.head())\n",
    "# Extract features and labels\n",
    "X = df['Sentence']\n",
    "y = df['Label']\n",
    "\n",
    "# Apply CountVectorizer to convert text data into numerical features\n",
    "vectorizer = CountVectorizer(min_df=2, max_df=0.8, stop_words=stopwords.words('english'))\n",
    "X = vectorizer.fit_transform(X.astype('U')).toarray()\n",
    "\n",
    "# Split the data into training and testing sets\n",
    "X_train, X_test, y_train, y_test = train_test_split(X, y, test_size=0.33, random_state=44)"
   ]
  },
  {
   "cell_type": "code",
   "execution_count": 9,
   "metadata": {},
   "outputs": [
    {
     "name": "stdout",
     "output_type": "stream",
     "text": [
      "DecisionTree Accuracy: 0.9400097228974235\n",
      "DecisionTree training  Accuracy: 0.9544083137780758\n"
     ]
    }
   ],
   "source": [
    "DecisionTreeClassifier=DecisionTreeClassifier(criterion='entropy',max_depth=100,random_state=42)\n",
    "DecisionTreeClassifier.fit(X_train, y_train)\n",
    "\n",
    "# Make predictions on the testing data\n",
    "y_pred =DecisionTreeClassifier.predict(X_test)\n",
    "\n",
    "# Calculate accuracy\n",
    "accuracy = accuracy_score(y_test, y_pred)\n",
    "print(\"DecisionTree\", f'Accuracy: {accuracy}')\n",
    "training_Accuracy=DecisionTreeClassifier.score(X_train,y_train)\n",
    "\n",
    "print(\"DecisionTree training \",f'Accuracy: {training_Accuracy}')"
   ]
  },
  {
   "cell_type": "code",
   "execution_count": 10,
   "metadata": {},
   "outputs": [
    {
     "name": "stdout",
     "output_type": "stream",
     "text": [
      "[1. 0.]\n"
     ]
    },
    {
     "data": {
      "image/png": "[encoded data removed]",
      "text/plain": [
       "<Figure size 640x480 with 2 Axes>"
      ]
     },
     "metadata": {},
     "output_type": "display_data"
    }
   ],
   "source": [
    "import seaborn as sns\n",
    "import matplotlib as plt\n",
    "from sklearn.metrics import confusion_matrix\n",
    "cm = confusion_matrix(y_test, y_pred)\n",
    "\n",
    "# Plot the confusion matrix as a heatmap\n",
    "sns.heatmap(cm, annot=True, fmt='d', cmap='Blues', center=True)\n",
    "print(df['Label'].unique())"
   ]
  },
  {
   "cell_type": "code",
   "execution_count": 11,
   "metadata": {},
   "outputs": [
    {
     "name": "stdout",
     "output_type": "stream",
     "text": [
      "DecisionTree Accuracy: 0.9406903257170637\n",
      "DecisionTree training Accuracy: 0.9554140127388535\n"
     ]
    }
   ],
   "source": [
    "\n",
    "from sklearn.tree  import DecisionTreeClassifier\n",
    "DecisionTreeClassifier=DecisionTreeClassifier(criterion='gini',max_depth=100,random_state=42)\n",
    "DecisionTreeClassifier.fit(X_train, y_train)\n",
    "\n",
    "# Make predictions on the testing data\n",
    "y_pred =DecisionTreeClassifier.predict(X_test)\n",
    "\n",
    "# Calculate accuracy\n",
    "accuracy = accuracy_score(y_test, y_pred)\n",
    "print(\"DecisionTree\", f'Accuracy: {accuracy}')\n",
    "training_Accuracy=DecisionTreeClassifier.score(X_train,y_train)\n",
    "\n",
    "print(\"DecisionTree training\",f'Accuracy: {training_Accuracy}')"
   ]
  },
  {
   "cell_type": "code",
   "execution_count": 12,
   "metadata": {},
   "outputs": [
    {
     "name": "stdout",
     "output_type": "stream",
     "text": [
      "[1. 0.]\n"
     ]
    },
    {
     "data": {
      "image/png": "[encoded data removed]",
      "text/plain": [
       "<Figure size 640x480 with 2 Axes>"
      ]
     },
     "metadata": {},
     "output_type": "display_data"
    }
   ],
   "source": [
    "\n",
    "cm = confusion_matrix(y_test, y_pred)\n",
    "\n",
    "# Plot the confusion matrix as a heatmap\n",
    "sns.heatmap(cm, annot=True, fmt='d', cmap='Blues', center=True)\n",
    "print(df['Label'].unique())"
   ]
  }
 ],
 "metadata": {
  "kernelspec": {
   "display_name": "Python 3",
   "language": "python",
   "name": "python3"
  },
  "language_info": {
   "codemirror_mode": {
    "name": "ipython",
    "version": 3
   },
   "file_extension": ".py",
   "mimetype": "text/x-python",
   "name": "python",
   "nbconvert_exporter": "python",
   "pygments_lexer": "ipython3",
   "version": "3.10.9"
  }
 },
 "nbformat": 4,
 "nbformat_minor": 2
}
